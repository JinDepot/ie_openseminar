{
 "cells": [
  {
   "cell_type": "markdown",
   "metadata": {},
   "source": [
    "토크나이징을 위하여 cohesion을 학습할 것인지, 문서들을 토크나이징 할 것인지 미리 지정합니다. \n",
    "\n",
    "토크나이징과 같이 작업 시간이 많이 들어갈 수 있는 작업들은 이렇게 맨 위에서 True, False로 설정할 수 있도록 미리 설정해두면, Shift + Enter를 연속으로 누르다가 했던 작업을 다시 하는 실수를 방지할 수 있습니다. \n",
    "\n",
    "한 번 학습을 하고나면 값을 False로 바꿔두세요. \n",
    "\n",
    "우리는 지난 시간에 토크나이징을 모두 끝내둔 'data/sample_naver_movie/merged_comments_tokenized.txt' 파일을 이용하겠습니다. "
   ]
  },
  {
   "cell_type": "code",
   "execution_count": 38,
   "metadata": {
    "collapsed": true
   },
   "outputs": [],
   "source": [
    "import soynlp\n",
    "\n",
    "corpus_fname = './data/merged_movie_comments.txt'\n",
    "tokenized_corpus_fname = './data/merged_movie_comments_tsoynlp.txt.txt'\n",
    "\n",
    "\n",
    "TRAIN_WORD2VEC = False\n",
    "word2vec_fname = './data/movie_review_word2vec_model_v2.2.pkl'\n",
    "\n",
    "\n",
    "TRAIN_DOC2VEC = False\n",
    "doc2vec_fname = './data/movie_review_doc2vec_model_v2.2.pkl'\n",
    "\n",
    "id2movie_fname = './data/navermovie_info_idx2moviename.pkl'\n",
    "id2actor_fname = './data/navermovie_info_idx2actorname.pkl'"
   ]
  },
  {
   "cell_type": "markdown",
   "metadata": {},
   "source": [
    "## Preprocessing: Cohesion training + Tokenizing"
   ]
  },
  {
   "cell_type": "markdown",
   "metadata": {},
   "source": [
    "corpus 파일은 tap으로 구분하여 한 줄에 <영화아이디, 텍스트, 평점>으로 입력되어 있습니다. \n",
    "\n",
    "    with open() as f:\n",
    "        docs=[doc.strip().split('\\t') for doc in f]\n",
    "\n",
    "위 구문은 파일을 읽어 한 줄에 줄바꿈 기호를 제거한 뒤, tap으로 줄을 분리합니다. 그 결과 한 줄에는 [영화아이디, 텍스트, 평점]의 리스트가 들어있게 됩니다. \n",
    "\n",
    "    [[영화아이디, 텍스트, 평점], \n",
    "     [영화아이디, 텍스트, 평점], \n",
    "     ...\n",
    "    ]\n",
    "\n",
    "위 형식의 list of list이기 때문에 각각의 column 별로 값을 분리하기 위하여 zip(\\*)을 이용합니다. "
   ]
  },
  {
   "cell_type": "code",
   "execution_count": 4,
   "metadata": {
    "collapsed": false
   },
   "outputs": [
    {
     "data": {
      "text/plain": [
       "('명불허전',\n",
       " '왠지 고사 피의 중간 고사 보다 재미 가 없을 듯해요 만약 보게 된다 면 실망 할듯',\n",
       " '티아라 사랑 해 ㅜ',\n",
       " '황정 음 윤시윤 지붕킥 인연 김수 로 티아라지연 공부 의신 인연 너무 너무 재미 있어 요',\n",
       " '기대 완전')"
      ]
     },
     "execution_count": 4,
     "metadata": {},
     "output_type": "execute_result"
    }
   ],
   "source": [
    "def get_text(fname):\n",
    "    with open(fname, encoding='utf-8') as f:\n",
    "        docs = [doc.strip().split('\\t') for doc in f]\n",
    "    \n",
    "    idx, texts, scores = zip(*docs)\n",
    "    return idx, texts, scores\n",
    "\n",
    "idx, docs, scores = get_text(tokenized_corpus_fname)\n",
    "docs[:5]"
   ]
  },
  {
   "cell_type": "markdown",
   "metadata": {},
   "source": [
    "문서의 길이는 3,280,685 입니다. 320만개 정도의 리뷰가 있습니다"
   ]
  },
  {
   "cell_type": "code",
   "execution_count": 3,
   "metadata": {
    "collapsed": false
   },
   "outputs": [
    {
     "data": {
      "text/plain": [
       "3280685"
      ]
     },
     "execution_count": 3,
     "metadata": {},
     "output_type": "execute_result"
    }
   ],
   "source": [
    "len(docs)"
   ]
  },
  {
   "cell_type": "markdown",
   "metadata": {},
   "source": [
    "## Gensim version\n",
    "\n",
    "gensim이 버전업데이트를 최근에 자주해서, 자료의 gensim version을 미리 적어둡니다. "
   ]
  },
  {
   "cell_type": "code",
   "execution_count": 94,
   "metadata": {
    "collapsed": false
   },
   "outputs": [
    {
     "data": {
      "text/plain": [
       "'2.2.0'"
      ]
     },
     "execution_count": 94,
     "metadata": {},
     "output_type": "execute_result"
    }
   ],
   "source": [
    "import gensim\n",
    "gensim.__version__"
   ]
  },
  {
   "cell_type": "markdown",
   "metadata": {},
   "source": [
    "## Word2Vec 학습"
   ]
  },
  {
   "cell_type": "markdown",
   "metadata": {},
   "source": [
    "Gensim의 Word2Vec을 학습하기 위해서는 list of str 형식의 input이 필요합니다. 하지만 모든 리뷰들을 메모리에 올리지 않고도 학습할 수 있습니다. generator인 with open을 이용하여 \\__iter\\__를 오버라이딩한 CommentWord2Vec이라는 클래스를 생성합니다. \n",
    "\n",
    "\\__iter\\__에서 \n",
    "\n",
    "    for doc in f:\n",
    "        movie_idx, text, score = doc.split('\\t')\n",
    "        yield text.split()\n",
    "\n",
    "을 수행하면, 파일 f로부터 한 줄을 읽어 tap으로 텍스트를 구분한 뒤, 그 텍스트를 띄어쓰기 기준으로 잘라낸 token list가 for loop 안에서 출력됩니다. \n",
    "\n",
    "\\__iter\\__는 아래 구문이 작동할 수 있도록 해주는 파이썬 내장함수 입니다. \n",
    "\n",
    "    for doc in word2vec_corpus:\n",
    "        print(doc)\n",
    "\n",
    "토크나이징이 된 리뷰들을 CommentWord2Vec의 fname으로 입력하였기 때문에, 띄어쓰기 만으로 단어열을 yield 할 수 있습니다. 이러한 작업은 반복이 되기 때문에 raw corpus와 tokenized corpus를 구분하여 저장하는 것이 좋습니다. "
   ]
  },
  {
   "cell_type": "code",
   "execution_count": 5,
   "metadata": {
    "collapsed": false
   },
   "outputs": [
    {
     "name": "stdout",
     "output_type": "stream",
     "text": [
      "['명불허전']\n",
      "['왠지', '고사', '피의', '중간', '고사', '보다', '재미', '가', '없을', '듯해요', '만약', '보게', '된다', '면', '실망', '할듯']\n",
      "['티아라', '사랑', '해', 'ㅜ']\n",
      "['황정', '음', '윤시윤', '지붕킥', '인연', '김수', '로', '티아라지연', '공부', '의신', '인연', '너무', '너무', '재미', '있어', '요']\n",
      "['기대', '완전']\n",
      "['기대', '지연', '나온다']\n"
     ]
    }
   ],
   "source": [
    "import os\n",
    "    \n",
    "class CommentWord2Vec:\n",
    "    \n",
    "    def __init__(self, fname):\n",
    "        self.fname = fname\n",
    "        if not os.path.exists(fname):\n",
    "            print('File not found: %s' % fname)\n",
    "        \n",
    "    def __iter__(self):\n",
    "        with open(self.fname, encoding='utf-8') as f:\n",
    "            for doc in f:\n",
    "                movie_idx, text, score = doc.split('\\t')\n",
    "                yield text.split()\n",
    "                \n",
    "                \n",
    "word2vec_corpus = CommentWord2Vec(tokenized_corpus_fname)\n",
    "\n",
    "for num_doc, doc in enumerate(word2vec_corpus):\n",
    "    if num_doc > 5: break\n",
    "    print(doc)"
   ]
  },
  {
   "cell_type": "markdown",
   "metadata": {},
   "source": [
    "Gensim의 Word2Vec을 이용합니다. 미리 만들어둔 word2vec_corpus를 Word2Vec의 argument로 입력합니다. default parameters를 이용하여 Word2Vec을 학습힙니다. \n",
    "\n",
    "Word2Vec의 arguments 중에서 중요한 것들은 아래와 같습니다. \n",
    "\n",
    "- size: 단어의 임베딩 공간의 크기\n",
    "- alpha: learning rate\n",
    "- window: 한 단어의 좌/우의 문맥 크기\n",
    "- min_count: 모델이 학습할 단어의 최소 출현 빈도수\n",
    "- max_vocab_size: None이 아닌 숫자를 입력하면 빈도수 기준으로 상위 max_vocab_size 개수만큼의 단어만 학습\n",
    "- sg: 1이면 skipgram 이용\n",
    "- negative: negative sampling에서 negative sample의 개수"
   ]
  },
  {
   "cell_type": "markdown",
   "metadata": {},
   "source": [
    "- 학습시간: 7min 20 sec (i7-5820, n_workers=3)"
   ]
  },
  {
   "cell_type": "code",
   "execution_count": 10,
   "metadata": {
    "collapsed": true
   },
   "outputs": [],
   "source": [
    "from gensim.models import Word2Vec\n",
    "import pickle\n",
    "\n",
    "if TRAIN_WORD2VEC:\n",
    "    word2vec_model = Word2Vec(word2vec_corpus,\n",
    "                              size=100,\n",
    "                              alpha=0.025,\n",
    "                              window=5,\n",
    "                              min_count=5,\n",
    "                              sg=0,\n",
    "                              negative=5)\n",
    "    with open(word2vec_fname, 'wb') as f:\n",
    "        pickle.dump(word2vec_model, f)\n",
    "        \n",
    "else:\n",
    "    with open(word2vec_fname, 'rb') as f:\n",
    "        word2vec_model = pickle.load(f)"
   ]
  },
  {
   "cell_type": "markdown",
   "metadata": {},
   "source": [
    "학습된 Word2Vec모델의 .most_similar(단어, topn) 함수는 입력된 단어에 대하여 가장 비슷한 topn개의 다른 단어들과 유사도를 출력합니다. \n",
    "\n",
    "아래의 에제에서 '영화'와 가장 비슷한 단어는 '애니'이며, 유사도는 0.7440입니다"
   ]
  },
  {
   "cell_type": "code",
   "execution_count": 19,
   "metadata": {
    "collapsed": false
   },
   "outputs": [
    {
     "data": {
      "text/plain": [
       "[('애니', 0.7440013885498047),\n",
       " ('애니메이션', 0.6863694787025452),\n",
       " ('작품', 0.6436028480529785),\n",
       " ('명화', 0.6181749701499939),\n",
       " ('드라마', 0.6173965930938721),\n",
       " ('에니메이션', 0.5842347145080566),\n",
       " ('수작', 0.5821621417999268),\n",
       " ('블록버스터', 0.5791249871253967),\n",
       " ('여화', 0.5710904598236084),\n",
       " ('영호ㅏ', 0.566919207572937)]"
      ]
     },
     "execution_count": 19,
     "metadata": {},
     "output_type": "execute_result"
    }
   ],
   "source": [
    "word2vec_model.most_similar('영화', topn=10)"
   ]
  },
  {
   "cell_type": "code",
   "execution_count": 20,
   "metadata": {
    "collapsed": false
   },
   "outputs": [
    {
     "data": {
      "text/plain": [
       "[('송강호', 0.9009091854095459),\n",
       " ('이정재', 0.868990421295166),\n",
       " ('공유', 0.8560090661048889),\n",
       " ('황정민', 0.8337357044219971),\n",
       " ('유아인', 0.820427656173706),\n",
       " ('설경구', 0.811323881149292),\n",
       " ('송광호', 0.8103774189949036),\n",
       " ('윌스미스', 0.8072429299354553),\n",
       " ('박해일', 0.803587794303894),\n",
       " ('손현주', 0.7990751266479492)]"
      ]
     },
     "execution_count": 20,
     "metadata": {},
     "output_type": "execute_result"
    }
   ],
   "source": [
    "word2vec_model.most_similar('하정우', topn=10)"
   ]
  },
  {
   "cell_type": "markdown",
   "metadata": {},
   "source": [
    "1점과 유사한 단어가 한글로 쓴 '일점', 그 이후로는 1, 2, 3, ... 이렇게 점수가 멀어져가는 것도 볼 수 있습니다"
   ]
  },
  {
   "cell_type": "code",
   "execution_count": 21,
   "metadata": {
    "collapsed": false
   },
   "outputs": [
    {
     "data": {
      "text/plain": [
       "[('일점', 0.9020614624023438),\n",
       " ('별1개', 0.8623889088630676),\n",
       " ('별반개', 0.8478377461433411),\n",
       " ('2점', 0.8468687534332275),\n",
       " ('별한개', 0.8328550457954407),\n",
       " ('3점', 0.8136663436889648),\n",
       " ('5점', 0.7921497821807861),\n",
       " ('4점', 0.77998948097229),\n",
       " ('십점', 0.7688029408454895),\n",
       " ('반점', 0.7538278102874756)]"
      ]
     },
     "execution_count": 21,
     "metadata": {},
     "output_type": "execute_result"
    }
   ],
   "source": [
    "word2vec_model.most_similar('1점', topn=10)"
   ]
  },
  {
   "cell_type": "markdown",
   "metadata": {},
   "source": [
    "'십점' 이라는 말은 점수가 들어갈 수 있는 문맥에서 나오는 말이기도 하지만, 긍정적인 표현에서 더 많이 나왔을 것입니다. 그렇기 때문에 1점 보다도, 천점, 백점 같은 단어들이 더 유사하게 학습됩니다 (네이버 영화에서 10점은 별 다섯개입니다)"
   ]
  },
  {
   "cell_type": "code",
   "execution_count": 22,
   "metadata": {
    "collapsed": false
   },
   "outputs": [
    {
     "data": {
      "text/plain": [
       "[('백점', 0.8095669150352478),\n",
       " ('별다섯개', 0.788926362991333),\n",
       " ('별5개', 0.7856196761131287),\n",
       " ('1점', 0.7688029408454895),\n",
       " ('일점', 0.7421482801437378),\n",
       " ('구점', 0.728834331035614),\n",
       " ('만점', 0.7254747152328491),\n",
       " ('반점', 0.7221064567565918),\n",
       " ('백점만점', 0.7200658321380615),\n",
       " ('최하점', 0.7146005034446716)]"
      ]
     },
     "execution_count": 22,
     "metadata": {},
     "output_type": "execute_result"
    }
   ],
   "source": [
    "word2vec_model.most_similar('십점', topn=10)"
   ]
  },
  {
   "cell_type": "markdown",
   "metadata": {},
   "source": [
    "평론가는 평론가, 평론 단체 (씨네21 등)끼리 뭉쳐 나오는 걸 볼 수 있습니다"
   ]
  },
  {
   "cell_type": "code",
   "execution_count": 23,
   "metadata": {
    "collapsed": false
   },
   "outputs": [
    {
     "data": {
      "text/plain": [
       "[('황진미', 0.8715710043907166),\n",
       " ('김현수', 0.8565118312835693),\n",
       " ('송경원', 0.8540835976600647),\n",
       " ('박평식', 0.8316025137901306),\n",
       " ('이용철', 0.8274370431900024),\n",
       " ('허남웅', 0.7955989241600037),\n",
       " ('허지웅', 0.7936883568763733),\n",
       " ('정시우', 0.7867159843444824),\n",
       " ('씨네21', 0.7795636057853699),\n",
       " ('한겨레', 0.7658989429473877)]"
      ]
     },
     "execution_count": 23,
     "metadata": {},
     "output_type": "execute_result"
    }
   ],
   "source": [
    "word2vec_model.most_similar('이동진', topn=10)"
   ]
  },
  {
   "cell_type": "code",
   "execution_count": 25,
   "metadata": {
    "collapsed": false
   },
   "outputs": [
    {
     "data": {
      "text/plain": [
       "[('전문가', 0.8642435073852539),\n",
       " ('기자', 0.861341118812561),\n",
       " ('씨네21', 0.8071532845497131),\n",
       " ('평론가들', 0.7693830728530884),\n",
       " ('기자들', 0.7190637588500977),\n",
       " ('일베', 0.7149430513381958),\n",
       " ('한겨레', 0.7123231887817383),\n",
       " ('평론', 0.7109761238098145),\n",
       " ('황진미', 0.710832417011261),\n",
       " ('시네21', 0.7034419775009155)]"
      ]
     },
     "execution_count": 25,
     "metadata": {},
     "output_type": "execute_result"
    }
   ],
   "source": [
    "word2vec_model.most_similar('평론가', topn=10)"
   ]
  },
  {
   "cell_type": "code",
   "execution_count": 26,
   "metadata": {
    "collapsed": false
   },
   "outputs": [
    {
     "data": {
      "text/plain": [
       "[('비평', 0.8239690661430359),\n",
       " ('비난', 0.7331878542900085),\n",
       " ('평가', 0.7235270738601685),\n",
       " ('평론가', 0.7109761238098145),\n",
       " ('악평', 0.7079919576644897),\n",
       " ('마녀사냥', 0.7037042379379272),\n",
       " ('판단', 0.6914525032043457),\n",
       " ('악플', 0.6832283735275269),\n",
       " ('잘난척', 0.6795428991317749),\n",
       " ('평론가들', 0.6750478744506836)]"
      ]
     },
     "execution_count": 26,
     "metadata": {},
     "output_type": "execute_result"
    }
   ],
   "source": [
    "word2vec_model.most_similar('평론', topn=10)"
   ]
  },
  {
   "cell_type": "code",
   "execution_count": 27,
   "metadata": {
    "collapsed": false
   },
   "outputs": [
    {
     "data": {
      "text/plain": [
       "[('줄거리', 0.8622268438339233),\n",
       " ('시나리오', 0.8560415506362915),\n",
       " ('내용', 0.7455657124519348),\n",
       " ('내러티브', 0.738810658454895),\n",
       " ('소재', 0.674518346786499),\n",
       " ('플롯', 0.6455096006393433),\n",
       " ('전개', 0.6317200660705566),\n",
       " ('CG', 0.6294261813163757),\n",
       " ('영상미', 0.6248971819877625),\n",
       " ('cg', 0.6024293303489685)]"
      ]
     },
     "execution_count": 27,
     "metadata": {},
     "output_type": "execute_result"
    }
   ],
   "source": [
    "word2vec_model.most_similar('스토리', topn=10)"
   ]
  },
  {
   "cell_type": "code",
   "execution_count": 28,
   "metadata": {
    "collapsed": false
   },
   "outputs": [
    {
     "data": {
      "text/plain": [
       "[('조연들', 0.8296752572059631),\n",
       " ('주연', 0.7533316016197205),\n",
       " ('단역', 0.7461921572685242),\n",
       " ('조연들의', 0.6941962242126465),\n",
       " ('배역', 0.5808011293411255),\n",
       " ('배역들', 0.5733293294906616),\n",
       " ('정재영', 0.5670306086540222),\n",
       " ('아역', 0.5601400136947632),\n",
       " ('곽도원', 0.5530614852905273),\n",
       " ('악역', 0.5424337387084961)]"
      ]
     },
     "execution_count": 28,
     "metadata": {},
     "output_type": "execute_result"
    }
   ],
   "source": [
    "word2vec_model.most_similar('조연', topn=10)"
   ]
  },
  {
   "cell_type": "code",
   "execution_count": 29,
   "metadata": {
    "collapsed": false
   },
   "outputs": [
    {
     "data": {
      "text/plain": [
       "[('캐릭터', 0.7173871994018555),\n",
       " ('톱스타', 0.664429783821106),\n",
       " ('케릭터', 0.6501983404159546),\n",
       " ('주연', 0.5914883613586426),\n",
       " ('베우', 0.5758824348449707),\n",
       " ('아이', 0.5647087693214417),\n",
       " ('연기', 0.5622798204421997),\n",
       " ('조연들', 0.5591898560523987),\n",
       " ('주인공', 0.5577583312988281),\n",
       " ('꼬맹이', 0.5492199659347534)]"
      ]
     },
     "execution_count": 29,
     "metadata": {},
     "output_type": "execute_result"
    }
   ],
   "source": [
    "word2vec_model.most_similar('배우', topn=10)"
   ]
  },
  {
   "cell_type": "code",
   "execution_count": 30,
   "metadata": {
    "collapsed": false
   },
   "outputs": [
    {
     "data": {
      "text/plain": [
       "[('4디', 0.8396525382995605),\n",
       " ('4d', 0.8351113200187683),\n",
       " ('4D', 0.816162109375),\n",
       " ('3디', 0.7893713712692261),\n",
       " ('2d', 0.7636864185333252),\n",
       " ('쓰리디', 0.7636334300041199),\n",
       " ('아이맥스', 0.7610283493995667),\n",
       " ('3d', 0.7568767070770264),\n",
       " ('imax', 0.7514917254447937),\n",
       " ('IMAX', 0.7417081594467163)]"
      ]
     },
     "execution_count": 30,
     "metadata": {},
     "output_type": "execute_result"
    }
   ],
   "source": [
    "word2vec_model.most_similar('포디', topn=10)"
   ]
  },
  {
   "cell_type": "code",
   "execution_count": 31,
   "metadata": {
    "collapsed": false
   },
   "outputs": [
    {
     "data": {
      "text/plain": [
       "[('용산', 0.9279516935348511),\n",
       " ('일산', 0.9147178530693054),\n",
       " ('센텀', 0.8986476063728333),\n",
       " ('왕십리', 0.8894186615943909),\n",
       " ('신도림', 0.879650890827179),\n",
       " ('신촌', 0.8731285929679871),\n",
       " ('롯데', 0.8690088987350464),\n",
       " ('메가박스', 0.8688494563102722),\n",
       " ('상암', 0.8638758063316345),\n",
       " ('부천', 0.8594379425048828)]"
      ]
     },
     "execution_count": 31,
     "metadata": {},
     "output_type": "execute_result"
    }
   ],
   "source": [
    "word2vec_model.most_similar('영등포', topn=10)"
   ]
  },
  {
   "cell_type": "markdown",
   "metadata": {},
   "source": [
    "메가박스의 유사어로 롯데시네마가 잡히기도 하지만, **롯시**라는 약어도 학습됩니다. 토크나이징이 잘 되어 있다면, 이와 같이 예상하지 못하는 단어도 비슷한 단어로 학습될 수 있습니다. "
   ]
  },
  {
   "cell_type": "code",
   "execution_count": 32,
   "metadata": {
    "collapsed": false
   },
   "outputs": [
    {
     "data": {
      "text/plain": [
       "[('롯데', 0.8768852353096008),\n",
       " ('영등포', 0.8688493967056274),\n",
       " ('일산', 0.8619153499603271),\n",
       " ('시네마', 0.8605634570121765),\n",
       " ('동대문', 0.8526878356933594),\n",
       " ('센텀', 0.8327674865722656),\n",
       " ('신촌', 0.8327223658561707),\n",
       " ('용산', 0.8300974369049072),\n",
       " ('왕십리', 0.8124370574951172),\n",
       " ('강남역', 0.8095139265060425),\n",
       " ('부천', 0.80931156873703),\n",
       " ('홍대', 0.8017978668212891),\n",
       " ('목동', 0.7993530035018921),\n",
       " ('노원', 0.7943507432937622),\n",
       " ('9시', 0.7920055389404297),\n",
       " ('김포공항', 0.7910195589065552),\n",
       " ('씨너스', 0.7886525988578796),\n",
       " ('상암', 0.7883567810058594),\n",
       " ('강변', 0.7761704921722412),\n",
       " ('롯시', 0.7746952176094055)]"
      ]
     },
     "execution_count": 32,
     "metadata": {},
     "output_type": "execute_result"
    }
   ],
   "source": [
    "word2vec_model.most_similar('메가박스', topn=20)"
   ]
  },
  {
   "cell_type": "markdown",
   "metadata": {},
   "source": [
    "당연히 Word2Vec 입장에서는 언어가 섞여 씌여도 관계가 없습니다. "
   ]
  },
  {
   "cell_type": "code",
   "execution_count": 33,
   "metadata": {
    "collapsed": false
   },
   "outputs": [
    {
     "data": {
      "text/plain": [
       "[('OCN', 0.8428668975830078),\n",
       " ('케이블', 0.7475681304931641),\n",
       " ('tv', 0.7423914670944214),\n",
       " ('지상파', 0.7315957546234131),\n",
       " ('KBS', 0.7230730056762695),\n",
       " ('파일', 0.7212100625038147),\n",
       " ('체널', 0.7208391427993774),\n",
       " ('아맥', 0.7183413505554199),\n",
       " ('TV', 0.7181311845779419),\n",
       " ('특집', 0.7104942798614502)]"
      ]
     },
     "execution_count": 33,
     "metadata": {},
     "output_type": "execute_result"
    }
   ],
   "source": [
    "word2vec_model.most_similar('ocn', topn=10)"
   ]
  },
  {
   "cell_type": "code",
   "execution_count": 35,
   "metadata": {
    "collapsed": false
   },
   "outputs": [
    {
     "data": {
      "text/plain": [
       "[('김윤석', 0.91635662317276),\n",
       " ('김명민', 0.9074050188064575),\n",
       " ('조진웅', 0.8827342391014099),\n",
       " ('정재영', 0.8794874548912048),\n",
       " ('유해진', 0.8780785799026489),\n",
       " ('유아인', 0.8684196472167969),\n",
       " ('최민식', 0.8521925210952759),\n",
       " ('송강호', 0.8493781089782715),\n",
       " ('이선균', 0.8468509912490845),\n",
       " ('손예진', 0.845827043056488)]"
      ]
     },
     "execution_count": 35,
     "metadata": {},
     "output_type": "execute_result"
    }
   ],
   "source": [
    "word2vec_model.most_similar('황정민')"
   ]
  },
  {
   "cell_type": "markdown",
   "metadata": {},
   "source": [
    "Word2Vec model의 단어 벡터들은 Word2Vec.wv 아래에 저장되어 있습니다. gensim version 1.x 부터 Word2Vec.wv에서 단어 벡터를 따로 관리합니다.\n",
    "    \n",
    "    \n",
    "### Word2Vec.wv.syn0: 실제 단어가 저장되어 있는 행렬    \n",
    "\n",
    "우리는 size=100으로 74,643개의 단어를 학습하였기 때문에 sync0의 shape은 아래와 같습니다.\n",
    "\n",
    "    word2vec_model.wv.syn0.shape    \n",
    "    > (74643, 100)\n",
    "\n",
    "### Word2Vec.wv.syn0norm: cosine similarity를 위하여 row normalize를 한 행렬로 모양은 같지만, 벡터의 2 Norm이 1입니다. \n",
    "\n",
    "    > word2vec_model.wv.syn0norm.shape\n",
    "    (74643, 100)\n",
    "    \n",
    "    > sum((v**2 for v in word2vec_model.wv.syn0[0]))\n",
    "    308.73273480277481\n",
    "    \n",
    "    > sum((v**2 for v in word2vec_model.wv.syn0norm[0]))\n",
    "    1.000000082656431\n"
   ]
  },
  {
   "cell_type": "markdown",
   "metadata": {},
   "source": [
    "Word2Vec.wv.index2word는 단어별 index가 저장되어 있습니다. "
   ]
  },
  {
   "cell_type": "code",
   "execution_count": 52,
   "metadata": {
    "collapsed": false
   },
   "outputs": [
    {
     "data": {
      "text/plain": [
       "list"
      ]
     },
     "execution_count": 52,
     "metadata": {},
     "output_type": "execute_result"
    }
   ],
   "source": [
    "type(word2vec_model.wv.index2word)"
   ]
  },
  {
   "cell_type": "code",
   "execution_count": 53,
   "metadata": {
    "collapsed": false
   },
   "outputs": [
    {
     "data": {
      "text/plain": [
       "'영화'"
      ]
     },
     "execution_count": 53,
     "metadata": {},
     "output_type": "execute_result"
    }
   ],
   "source": [
    "word2vec_model.wv.index2word[0]"
   ]
  },
  {
   "cell_type": "markdown",
   "metadata": {},
   "source": [
    "단어 벡터를 가져오려면 아래코드 중 하나를 실행하면 됩니다. \n",
    "\n",
    "    word2vec_model.wv['영화'] # 2.2 부터의 인터페이스\n",
    "    \n",
    "    word2vec_model['영화']    # 0.9.x 에서의 인터페이스"
   ]
  },
  {
   "cell_type": "code",
   "execution_count": 55,
   "metadata": {
    "collapsed": false
   },
   "outputs": [
    {
     "data": {
      "text/plain": [
       "array([-0.91994137, -1.61856759,  1.90144312,  0.98856968, -0.4734728 ,\n",
       "       -1.2333827 ,  1.81848848, -0.21094997,  1.50755954, -0.64310944,\n",
       "       -2.87900949, -0.86661887, -1.06520545, -0.69794244,  0.35853487,\n",
       "        1.4254837 ,  1.5765816 ,  0.34574485, -0.6596753 , -1.14894986,\n",
       "       -2.24943042,  0.8821013 , -3.49409723,  1.70316768,  3.35510468,\n",
       "        1.45350969, -0.20231712, -2.61010456,  1.02500618,  1.93765879,\n",
       "        1.87924516, -0.09029722, -1.81159067,  0.70364046, -0.86877525,\n",
       "        0.98927134, -1.66022921,  0.78950971,  1.05217767, -3.98992515,\n",
       "       -0.50905228,  2.37688541, -1.83175969, -0.87833279,  0.93759656,\n",
       "       -1.07104349,  0.34908211,  0.25865617, -2.66913509, -1.15528643,\n",
       "       -2.30407071, -0.97630799, -2.30921602,  1.17665911, -0.43932977,\n",
       "       -1.79386759,  1.65109384,  0.49195492, -0.82937878,  0.73720664,\n",
       "       -0.55745018, -0.99580437,  0.5174197 ,  0.3120977 , -2.43742275,\n",
       "        2.63843203, -0.52643317,  0.44590622, -1.1393019 , -0.94944757,\n",
       "       -1.25303841, -0.74261522,  0.86834812,  1.02946556, -3.77642894,\n",
       "       -2.70263982, -2.90623021,  0.05919588, -2.45374203,  0.12398814,\n",
       "       -0.33056083,  0.40437979, -1.52484608,  0.63449889, -2.62548161,\n",
       "        1.28857076, -3.40069866,  0.97575432, -1.65731692, -2.50762415,\n",
       "        1.52915227, -0.88639021, -5.68471527,  0.11184496,  0.70618469,\n",
       "        3.6661911 , -2.79819417,  2.68924332, -2.04208565,  0.12294718], dtype=float32)"
      ]
     },
     "execution_count": 55,
     "metadata": {},
     "output_type": "execute_result"
    }
   ],
   "source": [
    "word2vec_model.wv['영화']"
   ]
  },
  {
   "cell_type": "code",
   "execution_count": 54,
   "metadata": {
    "collapsed": false
   },
   "outputs": [
    {
     "data": {
      "text/plain": [
       "array([-0.91994137, -1.61856759,  1.90144312,  0.98856968, -0.4734728 ,\n",
       "       -1.2333827 ,  1.81848848, -0.21094997,  1.50755954, -0.64310944,\n",
       "       -2.87900949, -0.86661887, -1.06520545, -0.69794244,  0.35853487,\n",
       "        1.4254837 ,  1.5765816 ,  0.34574485, -0.6596753 , -1.14894986,\n",
       "       -2.24943042,  0.8821013 , -3.49409723,  1.70316768,  3.35510468,\n",
       "        1.45350969, -0.20231712, -2.61010456,  1.02500618,  1.93765879,\n",
       "        1.87924516, -0.09029722, -1.81159067,  0.70364046, -0.86877525,\n",
       "        0.98927134, -1.66022921,  0.78950971,  1.05217767, -3.98992515,\n",
       "       -0.50905228,  2.37688541, -1.83175969, -0.87833279,  0.93759656,\n",
       "       -1.07104349,  0.34908211,  0.25865617, -2.66913509, -1.15528643,\n",
       "       -2.30407071, -0.97630799, -2.30921602,  1.17665911, -0.43932977,\n",
       "       -1.79386759,  1.65109384,  0.49195492, -0.82937878,  0.73720664,\n",
       "       -0.55745018, -0.99580437,  0.5174197 ,  0.3120977 , -2.43742275,\n",
       "        2.63843203, -0.52643317,  0.44590622, -1.1393019 , -0.94944757,\n",
       "       -1.25303841, -0.74261522,  0.86834812,  1.02946556, -3.77642894,\n",
       "       -2.70263982, -2.90623021,  0.05919588, -2.45374203,  0.12398814,\n",
       "       -0.33056083,  0.40437979, -1.52484608,  0.63449889, -2.62548161,\n",
       "        1.28857076, -3.40069866,  0.97575432, -1.65731692, -2.50762415,\n",
       "        1.52915227, -0.88639021, -5.68471527,  0.11184496,  0.70618469,\n",
       "        3.6661911 , -2.79819417,  2.68924332, -2.04208565,  0.12294718], dtype=float32)"
      ]
     },
     "execution_count": 54,
     "metadata": {},
     "output_type": "execute_result"
    }
   ],
   "source": [
    "word2vec_model['영화']"
   ]
  },
  {
   "cell_type": "markdown",
   "metadata": {},
   "source": [
    "Word2Vec에서 index2word의 단어 순서는 단어의 빈도순입니다. 단어에 관련된 정보를 가져오고 싶다면 Word2Vec.wv.vocab을 이용하세요. \n",
    "\n",
    "vocab은 {단어: Vocab} 형식의 dict입니다. Vocab은 namedtuple이기 때문에 아래와 같이 이용할 수 있습니다. \n",
    "\n",
    "    word2vec_model.wv.vocab['영화'].count"
   ]
  },
  {
   "cell_type": "code",
   "execution_count": 56,
   "metadata": {
    "collapsed": false
   },
   "outputs": [
    {
     "data": {
      "text/plain": [
       "<gensim.models.keyedvectors.Vocab at 0x7efd15c84fd0>"
      ]
     },
     "execution_count": 56,
     "metadata": {},
     "output_type": "execute_result"
    }
   ],
   "source": [
    "word2vec_model.wv.vocab['영화']"
   ]
  },
  {
   "cell_type": "code",
   "execution_count": 57,
   "metadata": {
    "collapsed": false
   },
   "outputs": [
    {
     "data": {
      "text/plain": [
       "'Vocab(count:1412516, index:0, sample_int:891300489)'"
      ]
     },
     "execution_count": 57,
     "metadata": {},
     "output_type": "execute_result"
    }
   ],
   "source": [
    "str(word2vec_model.wv.vocab['영화'])"
   ]
  },
  {
   "cell_type": "code",
   "execution_count": 64,
   "metadata": {
    "collapsed": false
   },
   "outputs": [
    {
     "data": {
      "text/plain": [
       "1412516"
      ]
     },
     "execution_count": 64,
     "metadata": {},
     "output_type": "execute_result"
    }
   ],
   "source": [
    "word2vec_model.wv.vocab['영화'].count"
   ]
  },
  {
   "cell_type": "markdown",
   "metadata": {},
   "source": [
    "영화 다음으로 많이 등장한 단어인 ['이', '관람객']에 대한 정보도 가져와봅니다. index는 index2word의 index입니다. "
   ]
  },
  {
   "cell_type": "code",
   "execution_count": 61,
   "metadata": {
    "collapsed": false
   },
   "outputs": [
    {
     "data": {
      "text/plain": [
       "('이', '관람객')"
      ]
     },
     "execution_count": 61,
     "metadata": {},
     "output_type": "execute_result"
    }
   ],
   "source": [
    "word2vec_model.wv.index2word[1], word2vec_model.wv.index2word[2]"
   ]
  },
  {
   "cell_type": "code",
   "execution_count": 63,
   "metadata": {
    "collapsed": false
   },
   "outputs": [
    {
     "name": "stdout",
     "output_type": "stream",
     "text": [
      "Vocab(count:764006, index:1, sample_int:1277286636)\n",
      "Vocab(count:585858, index:2, sample_int:1498673726)\n"
     ]
    }
   ],
   "source": [
    "print(str(word2vec_model.wv.vocab['이']))\n",
    "print(str(word2vec_model.wv.vocab['관람객']))"
   ]
  },
  {
   "cell_type": "markdown",
   "metadata": {},
   "source": [
    "## Doc2Vec 학습"
   ]
  },
  {
   "cell_type": "markdown",
   "metadata": {},
   "source": [
    "Doc2Vec을 학습하기 위해서는 각각 문서의 label이 저장되어야 합니다. 이를 위하여 TaggedDocument라는 클래스가 이용됩니다. TaggedDocument는 단어들을 words에, 레이블 정보를 tags에 리스트 형태로 입력합니다"
   ]
  },
  {
   "cell_type": "markdown",
   "metadata": {},
   "source": [
    "- 학습시간 (i7-5820): 20min 54s"
   ]
  },
  {
   "cell_type": "code",
   "execution_count": 37,
   "metadata": {
    "collapsed": false
   },
   "outputs": [
    {
     "name": "stdout",
     "output_type": "stream",
     "text": [
      "CPU times: user 28min 3s, sys: 3min 30s, total: 31min 33s\n",
      "Wall time: 20min 54s\n"
     ]
    }
   ],
   "source": [
    "import os\n",
    "import pickle\n",
    "from gensim.models import Doc2Vec\n",
    "from gensim.models.doc2vec import TaggedDocument\n",
    "\n",
    "\n",
    "class CommentDoc2Vec:\n",
    "    \n",
    "    def __init__(self, fname):\n",
    "        self.fname = fname\n",
    "        if not os.path.exists(fname):\n",
    "            print('File not found: %s' % fname)\n",
    "        \n",
    "    def __iter__(self):\n",
    "        with open(self.fname, encoding='utf-8') as f:\n",
    "            for doc in f:\n",
    "                movie_idx, text, score = doc.split('\\t')\n",
    "                yield TaggedDocument(words=text.split(), tags=['MOVIE_%s' % movie_idx])\n",
    "\n",
    "                \n",
    "doc2vec_corpus = CommentDoc2Vec(tokenized_corpus_fname)\n",
    "\n",
    "\n",
    "if TRAIN_DOC2VEC:\n",
    "    doc2vec_model = Doc2Vec(doc2vec_corpus)\n",
    "    with open(doc2vec_fname, 'wb') as f:\n",
    "        pickle.dump(doc2vec_model, f)\n",
    "\n",
    "else:\n",
    "    with open(doc2vec_fname, 'rb') as f:\n",
    "        doc2vec_model = pickle.load(f)"
   ]
  },
  {
   "cell_type": "markdown",
   "metadata": {},
   "source": [
    "    Signature: doc2vec_model.infer_vector(doc_words, alpha=0.1, min_alpha=0.0001, steps=5)\n",
    "    Docstring:\n",
    "    Infer a vector for given post-bulk training document.\n",
    "\n",
    "    Document should be a list of (word) tokens."
   ]
  },
  {
   "cell_type": "code",
   "execution_count": 39,
   "metadata": {
    "collapsed": true
   },
   "outputs": [],
   "source": [
    "doc2vec_model.infer_vector?"
   ]
  },
  {
   "cell_type": "markdown",
   "metadata": {},
   "source": [
    "Doc2Vec은 Word2Vec과 동일하게 단어 벡터를 학습하며, 이를 바탕으로 document vector를 학습합니다. 그렇기 때문에 단어 벡터에 의한 유사도는 동일하게 학습됩니다. "
   ]
  },
  {
   "cell_type": "code",
   "execution_count": 40,
   "metadata": {
    "collapsed": false
   },
   "outputs": [
    {
     "data": {
      "text/plain": [
       "[('영회', 0.6946662068367004),\n",
       " ('양화', 0.6887550950050354),\n",
       " ('애니', 0.6820842623710632),\n",
       " ('엉화', 0.6614311933517456),\n",
       " ('여화', 0.6360124945640564),\n",
       " ('애니메이션', 0.6320168972015381),\n",
       " ('영호ㅏ', 0.6210547685623169),\n",
       " ('연화', 0.5999889969825745),\n",
       " ('에니메이션', 0.5683504939079285),\n",
       " ('영호ㅓ', 0.5612629055976868)]"
      ]
     },
     "execution_count": 40,
     "metadata": {},
     "output_type": "execute_result"
    }
   ],
   "source": [
    "doc2vec_model.most_similar('영화', topn=10)"
   ]
  },
  {
   "cell_type": "markdown",
   "metadata": {},
   "source": [
    "Doc2Vec model의 .docvecs안에는 document vector와 관련된 정보들이 저장되어 있습니다"
   ]
  },
  {
   "cell_type": "code",
   "execution_count": 45,
   "metadata": {
    "collapsed": false
   },
   "outputs": [
    {
     "data": {
      "text/plain": [
       "172"
      ]
     },
     "execution_count": 45,
     "metadata": {},
     "output_type": "execute_result"
    }
   ],
   "source": [
    "len(doc2vec_model.docvecs)"
   ]
  },
  {
   "cell_type": "markdown",
   "metadata": {},
   "source": [
    "Doctags에 들어있는 offset은 document vector의 임베딩 메트릭스의 row id이며, word_count는 각 태그에 해당하는 문서에 단어가 몇 개 있었는지, doc_count는 각 태그에 해당하는 문서가 몇 번 등장하였는지입니다"
   ]
  },
  {
   "cell_type": "code",
   "execution_count": 41,
   "metadata": {
    "collapsed": false
   },
   "outputs": [
    {
     "name": "stdout",
     "output_type": "stream",
     "text": [
      "MOVIE_72523 Doctag(offset=0, word_count=94513, doc_count=10187)\n",
      "MOVIE_59845 Doctag(offset=1, word_count=144494, doc_count=13095)\n",
      "MOVIE_109753 Doctag(offset=2, word_count=202367, doc_count=10361)\n",
      "MOVIE_45321 Doctag(offset=3, word_count=294482, doc_count=26915)\n",
      "MOVIE_45290 Doctag(offset=4, word_count=775777, doc_count=48273)\n",
      "MOVIE_47385 Doctag(offset=5, word_count=412600, doc_count=41653)\n",
      "MOVIE_78726 Doctag(offset=6, word_count=326349, doc_count=20615)\n",
      "MOVIE_89218 Doctag(offset=7, word_count=388191, doc_count=20080)\n",
      "MOVIE_47528 Doctag(offset=8, word_count=139339, doc_count=13397)\n",
      "MOVIE_75397 Doctag(offset=9, word_count=236332, doc_count=16444)\n",
      "MOVIE_48246 Doctag(offset=10, word_count=235112, doc_count=21912)\n",
      "MOVIE_140695 Doctag(offset=11, word_count=318897, doc_count=23998)\n",
      "MOVIE_72054 Doctag(offset=12, word_count=378347, doc_count=25748)\n",
      "MOVIE_102817 Doctag(offset=13, word_count=386768, doc_count=26021)\n",
      "MOVIE_109960 Doctag(offset=14, word_count=256567, doc_count=14302)\n",
      "MOVIE_123519 Doctag(offset=15, word_count=346297, doc_count=22449)\n",
      "MOVIE_78790 Doctag(offset=16, word_count=201133, doc_count=11511)\n",
      "MOVIE_129408 Doctag(offset=17, word_count=152852, doc_count=10329)\n",
      "MOVIE_62586 Doctag(offset=18, word_count=259965, doc_count=25018)\n",
      "MOVIE_122527 Doctag(offset=19, word_count=464045, doc_count=37752)\n",
      "MOVIE_51143 Doctag(offset=20, word_count=303649, doc_count=32271)\n",
      "MOVIE_39157 Doctag(offset=21, word_count=142454, doc_count=16559)\n",
      "MOVIE_141104 Doctag(offset=22, word_count=361956, doc_count=24586)\n",
      "MOVIE_51708 Doctag(offset=23, word_count=181744, doc_count=16455)\n",
      "MOVIE_137377 Doctag(offset=24, word_count=182447, doc_count=12069)\n",
      "MOVIE_127496 Doctag(offset=25, word_count=183940, doc_count=10747)\n",
      "MOVIE_91031 Doctag(offset=26, word_count=281333, doc_count=19902)\n",
      "MOVIE_121051 Doctag(offset=27, word_count=772944, doc_count=44779)\n",
      "MOVIE_100931 Doctag(offset=28, word_count=548150, doc_count=36068)\n",
      "MOVIE_80866 Doctag(offset=29, word_count=108669, doc_count=10084)\n",
      "MOVIE_109911 Doctag(offset=30, word_count=155219, doc_count=10467)\n",
      "MOVIE_52515 Doctag(offset=31, word_count=263941, doc_count=24617)\n",
      "MOVIE_18847 Doctag(offset=32, word_count=163515, doc_count=17234)\n",
      "MOVIE_47384 Doctag(offset=33, word_count=934912, doc_count=63942)\n",
      "MOVIE_39636 Doctag(offset=34, word_count=134470, doc_count=14262)\n",
      "MOVIE_121048 Doctag(offset=35, word_count=576483, doc_count=40044)\n",
      "MOVIE_51386 Doctag(offset=36, word_count=240776, doc_count=22884)\n",
      "MOVIE_118917 Doctag(offset=37, word_count=181977, doc_count=12235)\n",
      "MOVIE_52548 Doctag(offset=38, word_count=147373, doc_count=14726)\n",
      "MOVIE_132933 Doctag(offset=39, word_count=318422, doc_count=17575)\n",
      "MOVIE_120157 Doctag(offset=40, word_count=347040, doc_count=20522)\n",
      "MOVIE_72408 Doctag(offset=41, word_count=146852, doc_count=11626)\n",
      "MOVIE_65674 Doctag(offset=42, word_count=225155, doc_count=20488)\n",
      "MOVIE_106850 Doctag(offset=43, word_count=211405, doc_count=14710)\n",
      "MOVIE_74866 Doctag(offset=44, word_count=162875, doc_count=11059)\n",
      "MOVIE_93028 Doctag(offset=45, word_count=190744, doc_count=10600)\n",
      "MOVIE_83893 Doctag(offset=46, word_count=404877, doc_count=26615)\n",
      "MOVIE_144968 Doctag(offset=47, word_count=200208, doc_count=14567)\n",
      "MOVIE_43679 Doctag(offset=48, word_count=116746, doc_count=12725)\n",
      "MOVIE_130013 Doctag(offset=49, word_count=218494, doc_count=14696)\n",
      "MOVIE_70241 Doctag(offset=50, word_count=167556, doc_count=15395)\n",
      "MOVIE_118922 Doctag(offset=51, word_count=209952, doc_count=13522)\n",
      "MOVIE_77128 Doctag(offset=52, word_count=131429, doc_count=10909)\n",
      "MOVIE_130903 Doctag(offset=53, word_count=363025, doc_count=27305)\n",
      "MOVIE_102875 Doctag(offset=54, word_count=659849, doc_count=40894)\n",
      "MOVIE_67786 Doctag(offset=55, word_count=253597, doc_count=17680)\n",
      "MOVIE_93728 Doctag(offset=56, word_count=247352, doc_count=14741)\n",
      "MOVIE_44529 Doctag(offset=57, word_count=142544, doc_count=14777)\n",
      "MOVIE_99714 Doctag(offset=58, word_count=196756, doc_count=13814)\n",
      "MOVIE_91073 Doctag(offset=59, word_count=222847, doc_count=11379)\n",
      "MOVIE_72522 Doctag(offset=60, word_count=234035, doc_count=13487)\n",
      "MOVIE_83084 Doctag(offset=61, word_count=165437, doc_count=14441)\n",
      "MOVIE_74315 Doctag(offset=62, word_count=128444, doc_count=10706)\n",
      "MOVIE_37886 Doctag(offset=63, word_count=215963, doc_count=17052)\n",
      "MOVIE_98146 Doctag(offset=64, word_count=216303, doc_count=13477)\n",
      "MOVIE_76581 Doctag(offset=65, word_count=198425, doc_count=18676)\n",
      "MOVIE_75006 Doctag(offset=66, word_count=171599, doc_count=10909)\n",
      "MOVIE_115622 Doctag(offset=67, word_count=243380, doc_count=16576)\n",
      "MOVIE_73372 Doctag(offset=68, word_count=292548, doc_count=31045)\n",
      "MOVIE_142803 Doctag(offset=69, word_count=169546, doc_count=10245)\n",
      "MOVIE_47229 Doctag(offset=70, word_count=107334, doc_count=10401)\n",
      "MOVIE_108225 Doctag(offset=71, word_count=320852, doc_count=17403)\n",
      "MOVIE_96379 Doctag(offset=72, word_count=253606, doc_count=16757)\n",
      "MOVIE_116532 Doctag(offset=73, word_count=173904, doc_count=10173)\n",
      "MOVIE_99794 Doctag(offset=74, word_count=329930, doc_count=17973)\n",
      "MOVIE_49727 Doctag(offset=75, word_count=141757, doc_count=12685)\n",
      "MOVIE_75413 Doctag(offset=76, word_count=130277, doc_count=10652)\n",
      "MOVIE_90589 Doctag(offset=77, word_count=225055, doc_count=15676)\n",
      "MOVIE_68196 Doctag(offset=78, word_count=243863, doc_count=12348)\n",
      "MOVIE_114249 Doctag(offset=79, word_count=255410, doc_count=20534)\n",
      "MOVIE_39894 Doctag(offset=80, word_count=306842, doc_count=37677)\n",
      "MOVIE_137952 Doctag(offset=81, word_count=343157, doc_count=22904)\n",
      "MOVIE_95541 Doctag(offset=82, word_count=172445, doc_count=14139)\n",
      "MOVIE_88225 Doctag(offset=83, word_count=228172, doc_count=13672)\n",
      "MOVIE_102272 Doctag(offset=84, word_count=580131, doc_count=33614)\n",
      "MOVIE_89755 Doctag(offset=85, word_count=434481, doc_count=21441)\n",
      "MOVIE_73344 Doctag(offset=86, word_count=157541, doc_count=14085)\n",
      "MOVIE_109778 Doctag(offset=87, word_count=207599, doc_count=14224)\n",
      "MOVIE_66158 Doctag(offset=88, word_count=145545, doc_count=15420)\n",
      "MOVIE_75355 Doctag(offset=89, word_count=115435, doc_count=9990)\n",
      "MOVIE_47370 Doctag(offset=90, word_count=232199, doc_count=12181)\n",
      "MOVIE_39841 Doctag(offset=91, word_count=363923, doc_count=42412)\n",
      "MOVIE_142822 Doctag(offset=92, word_count=728503, doc_count=40985)\n",
      "MOVIE_39640 Doctag(offset=93, word_count=104530, doc_count=11331)\n",
      "MOVIE_129383 Doctag(offset=94, word_count=158618, doc_count=10878)\n",
      "MOVIE_107373 Doctag(offset=95, word_count=178862, doc_count=11377)\n",
      "MOVIE_115642 Doctag(offset=96, word_count=200097, doc_count=14081)\n",
      "MOVIE_94775 Doctag(offset=97, word_count=695101, doc_count=45131)\n",
      "MOVIE_99740 Doctag(offset=98, word_count=175130, doc_count=11951)\n",
      "MOVIE_58018 Doctag(offset=99, word_count=263521, doc_count=25681)\n",
      "MOVIE_70254 Doctag(offset=100, word_count=208904, doc_count=17056)\n",
      "MOVIE_134963 Doctag(offset=101, word_count=251774, doc_count=15599)\n",
      "MOVIE_98438 Doctag(offset=102, word_count=407677, doc_count=32748)\n",
      "MOVIE_102824 Doctag(offset=103, word_count=227555, doc_count=13078)\n",
      "MOVIE_22126 Doctag(offset=104, word_count=100494, doc_count=11481)\n",
      "MOVIE_64191 Doctag(offset=105, word_count=122143, doc_count=11438)\n",
      "MOVIE_39405 Doctag(offset=106, word_count=88891, doc_count=10353)\n",
      "MOVIE_75426 Doctag(offset=107, word_count=208497, doc_count=15588)\n",
      "MOVIE_91045 Doctag(offset=108, word_count=158378, doc_count=10503)\n",
      "MOVIE_67900 Doctag(offset=109, word_count=126784, doc_count=12567)\n",
      "MOVIE_71509 Doctag(offset=110, word_count=296932, doc_count=27799)\n",
      "MOVIE_135843 Doctag(offset=111, word_count=423824, doc_count=21588)\n",
      "MOVIE_130966 Doctag(offset=112, word_count=992539, doc_count=62092)\n",
      "MOVIE_41450 Doctag(offset=113, word_count=97560, doc_count=12247)\n",
      "MOVIE_17421 Doctag(offset=114, word_count=138407, doc_count=16195)\n",
      "MOVIE_69956 Doctag(offset=115, word_count=161696, doc_count=10136)\n",
      "MOVIE_44913 Doctag(offset=116, word_count=354096, doc_count=21837)\n",
      "MOVIE_73318 Doctag(offset=117, word_count=98021, doc_count=10120)\n",
      "MOVIE_88253 Doctag(offset=118, word_count=600806, doc_count=33995)\n",
      "MOVIE_48227 Doctag(offset=119, word_count=206962, doc_count=20491)\n",
      "MOVIE_76016 Doctag(offset=120, word_count=193692, doc_count=18202)\n",
      "MOVIE_39569 Doctag(offset=121, word_count=536896, doc_count=54128)\n",
      "MOVIE_76460 Doctag(offset=122, word_count=133935, doc_count=12355)\n",
      "MOVIE_68052 Doctag(offset=123, word_count=181181, doc_count=17711)\n",
      "MOVIE_107924 Doctag(offset=124, word_count=328435, doc_count=20794)\n",
      "MOVIE_44885 Doctag(offset=125, word_count=94136, doc_count=10340)\n",
      "MOVIE_88426 Doctag(offset=126, word_count=170751, doc_count=14685)\n",
      "MOVIE_126032 Doctag(offset=127, word_count=222144, doc_count=15073)\n",
      "MOVIE_94767 Doctag(offset=128, word_count=384704, doc_count=23645)\n",
      "MOVIE_47152 Doctag(offset=129, word_count=112825, doc_count=11302)\n",
      "MOVIE_83250 Doctag(offset=130, word_count=261340, doc_count=14780)\n",
      "MOVIE_32686 Doctag(offset=131, word_count=117432, doc_count=12212)\n",
      "MOVIE_63513 Doctag(offset=132, word_count=99195, doc_count=10804)\n",
      "MOVIE_54411 Doctag(offset=133, word_count=106714, doc_count=11591)\n",
      "MOVIE_125459 Doctag(offset=134, word_count=225572, doc_count=17624)\n",
      "MOVIE_115977 Doctag(offset=135, word_count=538727, doc_count=39846)\n",
      "MOVIE_72363 Doctag(offset=136, word_count=200607, doc_count=18866)\n",
      "MOVIE_53034 Doctag(offset=137, word_count=151660, doc_count=13949)\n",
      "MOVIE_51918 Doctag(offset=138, word_count=110666, doc_count=10589)\n",
      "MOVIE_119966 Doctag(offset=139, word_count=265069, doc_count=16357)\n",
      "MOVIE_92047 Doctag(offset=140, word_count=227666, doc_count=12346)\n",
      "MOVIE_42589 Doctag(offset=141, word_count=201372, doc_count=27256)\n",
      "MOVIE_67769 Doctag(offset=142, word_count=310672, doc_count=18388)\n",
      "MOVIE_68695 Doctag(offset=143, word_count=167296, doc_count=16392)\n",
      "MOVIE_92075 Doctag(offset=144, word_count=207177, doc_count=11938)\n",
      "MOVIE_75401 Doctag(offset=145, word_count=146594, doc_count=12805)\n",
      "MOVIE_76080 Doctag(offset=146, word_count=107679, doc_count=10091)\n",
      "MOVIE_68555 Doctag(offset=147, word_count=332953, doc_count=38402)\n",
      "MOVIE_45232 Doctag(offset=148, word_count=124450, doc_count=10769)\n",
      "MOVIE_103535 Doctag(offset=149, word_count=196306, doc_count=10625)\n",
      "MOVIE_99752 Doctag(offset=150, word_count=443876, doc_count=26409)\n",
      "MOVIE_119430 Doctag(offset=151, word_count=187697, doc_count=13984)\n",
      "MOVIE_85640 Doctag(offset=152, word_count=155902, doc_count=10194)\n",
      "MOVIE_100647 Doctag(offset=153, word_count=300107, doc_count=20577)\n",
      "MOVIE_62328 Doctag(offset=154, word_count=757973, doc_count=39680)\n",
      "MOVIE_100691 Doctag(offset=155, word_count=310711, doc_count=19777)\n",
      "MOVIE_51777 Doctag(offset=156, word_count=232731, doc_count=13264)\n",
      "MOVIE_58088 Doctag(offset=157, word_count=92982, doc_count=10861)\n",
      "MOVIE_64129 Doctag(offset=158, word_count=115308, doc_count=10646)\n",
      "MOVIE_60753 Doctag(offset=159, word_count=114363, doc_count=12046)\n",
      "MOVIE_43678 Doctag(offset=160, word_count=89086, doc_count=11158)\n",
      "MOVIE_61521 Doctag(offset=161, word_count=221941, doc_count=23347)\n",
      "MOVIE_96327 Doctag(offset=162, word_count=161822, doc_count=12074)\n",
      "MOVIE_47531 Doctag(offset=163, word_count=215123, doc_count=21564)\n",
      "MOVIE_77768 Doctag(offset=164, word_count=254933, doc_count=17850)\n",
      "MOVIE_113344 Doctag(offset=165, word_count=178980, doc_count=13214)\n",
      "MOVIE_94187 Doctag(offset=166, word_count=197068, doc_count=12917)\n",
      "MOVIE_129050 Doctag(offset=167, word_count=282043, doc_count=14472)\n",
      "MOVIE_86867 Doctag(offset=168, word_count=276683, doc_count=14451)\n",
      "MOVIE_121922 Doctag(offset=169, word_count=337180, doc_count=20432)\n",
      "MOVIE_129049 Doctag(offset=170, word_count=211744, doc_count=14887)\n",
      "MOVIE_62266 Doctag(offset=171, word_count=422451, doc_count=42125)\n"
     ]
    }
   ],
   "source": [
    "for idx, doctag in sorted(doc2vec_model.docvecs.doctags.items(), key=lambda x:x[1].offset):\n",
    "    print(idx, doctag)"
   ]
  },
  {
   "cell_type": "markdown",
   "metadata": {},
   "source": [
    "위에서 MOVIE_59845의 offset = 1은 docvec에서의 row id가 1라는 의미입니다. \n",
    "\n",
    "리스트 안의 tuple 값의 의미는 (doctag, 유사도) 입니다 "
   ]
  },
  {
   "cell_type": "code",
   "execution_count": 65,
   "metadata": {
    "collapsed": false
   },
   "outputs": [
    {
     "data": {
      "text/plain": [
       "[('MOVIE_72408', 0.8431919813156128),\n",
       " ('MOVIE_45232', 0.7934122681617737),\n",
       " ('MOVIE_42589', 0.7770787477493286),\n",
       " ('MOVIE_123519', 0.7739340662956238),\n",
       " ('MOVIE_73344', 0.7243151068687439),\n",
       " ('MOVIE_39894', 0.697256326675415),\n",
       " ('MOVIE_65674', 0.6836678385734558),\n",
       " ('MOVIE_39405', 0.6777067184448242),\n",
       " ('MOVIE_39841', 0.6764494180679321),\n",
       " ('MOVIE_68695', 0.671931266784668)]"
      ]
     },
     "execution_count": 65,
     "metadata": {},
     "output_type": "execute_result"
    }
   ],
   "source": [
    "doc2vec_model.docvecs.most_similar('MOVIE_59845')"
   ]
  },
  {
   "cell_type": "markdown",
   "metadata": {},
   "source": [
    "Document vector의 row id로도 most_similar를 찾을 수 있습니다. "
   ]
  },
  {
   "cell_type": "code",
   "execution_count": 66,
   "metadata": {
    "collapsed": false
   },
   "outputs": [
    {
     "data": {
      "text/plain": [
       "[('MOVIE_72408', 0.8431919813156128),\n",
       " ('MOVIE_45232', 0.7934122681617737),\n",
       " ('MOVIE_42589', 0.7770787477493286),\n",
       " ('MOVIE_123519', 0.7739340662956238),\n",
       " ('MOVIE_73344', 0.7243151068687439),\n",
       " ('MOVIE_39894', 0.697256326675415),\n",
       " ('MOVIE_65674', 0.6836678385734558),\n",
       " ('MOVIE_39405', 0.6777067184448242),\n",
       " ('MOVIE_39841', 0.6764494180679321),\n",
       " ('MOVIE_68695', 0.671931266784668)]"
      ]
     },
     "execution_count": 66,
     "metadata": {},
     "output_type": "execute_result"
    }
   ],
   "source": [
    "doc2vec_model.docvecs.most_similar(1)"
   ]
  },
  {
   "cell_type": "markdown",
   "metadata": {},
   "source": [
    "Dov2Veco.docvecs.doctags는 document vector의 각 row 기준으로 tag 정보가 저장되어 있습니다. "
   ]
  },
  {
   "cell_type": "code",
   "execution_count": 67,
   "metadata": {
    "collapsed": false
   },
   "outputs": [
    {
     "data": {
      "text/plain": [
       "['MOVIE_72523', 'MOVIE_59845', 'MOVIE_109753', 'MOVIE_45321', 'MOVIE_45290']"
      ]
     },
     "execution_count": 67,
     "metadata": {},
     "output_type": "execute_result"
    }
   ],
   "source": [
    "list(doc2vec_model.docvecs.doctags)[:5]"
   ]
  },
  {
   "cell_type": "markdown",
   "metadata": {},
   "source": [
    "word_count는 해당 문서에 등장한 단어의 총 빈도수의 합이며, doc_count는 MOVIE\\_%D 형식으로 입력된 TaggedDocument의 개수입니다. 우리 데이터에서는 영화별 리뷰 개수에 해당합니다. "
   ]
  },
  {
   "cell_type": "code",
   "execution_count": 68,
   "metadata": {
    "collapsed": false
   },
   "outputs": [
    {
     "data": {
      "text/plain": [
       "[('MOVIE_72523', Doctag(offset=0, word_count=94513, doc_count=10187)),\n",
       " ('MOVIE_59845', Doctag(offset=1, word_count=144494, doc_count=13095)),\n",
       " ('MOVIE_109753', Doctag(offset=2, word_count=202367, doc_count=10361)),\n",
       " ('MOVIE_45321', Doctag(offset=3, word_count=294482, doc_count=26915)),\n",
       " ('MOVIE_45290', Doctag(offset=4, word_count=775777, doc_count=48273))]"
      ]
     },
     "execution_count": 68,
     "metadata": {},
     "output_type": "execute_result"
    }
   ],
   "source": [
    "list(doc2vec_model.docvecs.doctags.items())[:5]"
   ]
  },
  {
   "cell_type": "markdown",
   "metadata": {},
   "source": [
    "## Doc2Vec 해석하기"
   ]
  },
  {
   "cell_type": "code",
   "execution_count": 69,
   "metadata": {
    "collapsed": true
   },
   "outputs": [],
   "source": [
    "import pickle\n",
    "\n",
    "with open(id2movie_fname, 'rb') as f:\n",
    "    idx2movie = pickle.load(f)\n",
    "    \n",
    "movie2idx = {name:movie_idx for movie_idx, name in idx2movie.items()}"
   ]
  },
  {
   "cell_type": "markdown",
   "metadata": {},
   "source": [
    "Doc2Vec.docvecs.most_similar에서는 태그로 구분되는 문서들에 대하여 유사한 다른 문서를 찾아줍니다. "
   ]
  },
  {
   "cell_type": "code",
   "execution_count": 70,
   "metadata": {
    "collapsed": false
   },
   "outputs": [
    {
     "name": "stdout",
     "output_type": "stream",
     "text": [
      "('MOVIE_96379', 0.9090828895568848)\n",
      "('MOVIE_92075', 0.8448772430419922)\n",
      "('MOVIE_89755', 0.7290356755256653)\n",
      "('MOVIE_66158', 0.7020918726921082)\n",
      "('MOVIE_63513', 0.6952322721481323)\n",
      "('MOVIE_118917', 0.6928815245628357)\n",
      "('MOVIE_115622', 0.6873512268066406)\n",
      "('MOVIE_100931', 0.679163932800293)\n",
      "('MOVIE_129050', 0.6677015423774719)\n",
      "('MOVIE_39636', 0.6675947308540344)\n"
     ]
    }
   ],
   "source": [
    "for similar in doc2vec_model.docvecs.most_similar('MOVIE_134963'):\n",
    "    print(similar)"
   ]
  },
  {
   "cell_type": "markdown",
   "metadata": {},
   "source": [
    "영화 아이디를 영화 제목으로 바꿔서 해석해봅시다"
   ]
  },
  {
   "cell_type": "code",
   "execution_count": 71,
   "metadata": {
    "collapsed": false
   },
   "outputs": [
    {
     "name": "stdout",
     "output_type": "stream",
     "text": [
      "72523 \t 고사 두 번째 이야기: 교생실습\n",
      "59845 \t 박쥐\n",
      "109753 \t 해무\n",
      "45321 \t 해운대\n",
      "45290 \t 인터스텔라\n",
      "47385 \t 국가대표\n",
      "78726 \t 도둑들\n",
      "89218 \t 베를린\n",
      "47528 \t 해리 포터와 죽음의 성물 - 2부\n",
      "75397 \t 미스터 고\n",
      "48246 \t 7광구\n",
      "140695 \t 럭키\n",
      "72054 \t 다크 나이트 라이즈\n",
      "102817 \t 해적: 바다로 간 산적\n",
      "109960 \t 배트맨 대 슈퍼맨: 저스티스의 시작\n",
      "123519 \t 아가씨\n",
      "78790 \t 내가 살인범이다\n",
      "129408 \t 메이즈 러너: 스코치 트라이얼\n",
      "62586 \t 다크 나이트\n",
      "122527 \t 캡틴 아메리카: 시빌 워\n",
      "51143 \t 과속스캔들\n",
      "39157 \t 미녀는 괴로워\n",
      "141104 \t 터널\n",
      "51708 \t 영웅: 샐러멘더의 비밀\n",
      "137377 \t 응답하라 1988\n",
      "127496 \t 대호\n",
      "91031 \t 신세계\n",
      "121051 \t 곡성(哭聲)\n",
      "100931 \t 겨울왕국\n",
      "80866 \t 완득이\n",
      "109911 \t 빅 히어로\n",
      "52515 \t 인셉션\n",
      "18847 \t 타이타닉\n",
      "47384 \t 26년\n",
      "39636 \t 지금, 만나러 갑니다\n",
      "121048 \t 암살\n",
      "51386 \t 포화 속으로\n",
      "118917 \t 인턴\n",
      "52548 \t 의형제\n",
      "132933 \t 판도라\n",
      "120157 \t 검은 사제들\n",
      "72408 \t 악마를 보았다\n",
      "65674 \t 좋은 놈, 나쁜 놈, 이상한 놈\n",
      "106850 \t 천안함 프로젝트\n",
      "74866 \t 인디펜던스 데이: 리써전스\n",
      "93028 \t 용의자\n",
      "83893 \t 광해, 왕이 된 남자\n",
      "144968 \t 제이슨 본\n",
      "43679 \t 캐리비안의 해적 - 세상의 끝에서\n",
      "130013 \t 님아, 그 강을 건너지 마오\n",
      "70241 \t 트랜스포머 3\n",
      "118922 \t 카트\n",
      "77128 \t 배틀쉽\n",
      "130903 \t 검사외전\n",
      "102875 \t 국제시장\n",
      "67786 \t 쥬라기 월드\n",
      "93728 \t 관상\n",
      "44529 \t 해바라기\n",
      "99714 \t 엑스맨: 데이즈 오브 퓨처 패스트\n",
      "91073 \t 박수건달\n",
      "72522 \t 감기\n",
      "83084 \t 최종병기 활\n",
      "74315 \t 고지전\n",
      "37886 \t 클레멘타인\n",
      "98146 \t 감시자들\n",
      "76581 \t 스카이라인\n",
      "75006 \t 워크래프트: 전쟁의 서막\n",
      "115622 \t 인사이드 아웃\n",
      "73372 \t 세 얼간이\n",
      "142803 \t 형\n",
      "47229 \t 트와일라잇\n",
      "108225 \t 역린\n",
      "96379 \t 비긴 어게인\n",
      "116532 \t 두근두근 내 인생\n",
      "99794 \t 더 테러 라이브\n",
      "49727 \t 2012\n",
      "75413 \t 도가니\n",
      "90589 \t 엣지 오브 투모로우\n",
      "68196 \t 맨 오브 스틸\n",
      "114249 \t 킹스맨 : 시크릿 에이전트\n",
      "39894 \t 왕의 남자\n",
      "137952 \t 밀정\n",
      "95541 \t 미션 임파서블: 로그네이션\n",
      "88225 \t 연가시\n",
      "102272 \t 연평해전\n",
      "89755 \t 레미제라블\n",
      "73344 \t 초능력자\n",
      "109778 \t 끝까지 간다\n",
      "66158 \t 어거스트 러쉬\n",
      "75355 \t 퀵\n",
      "47370 \t 그래비티\n",
      "39841 \t 괴물\n",
      "142822 \t 인천상륙작전\n",
      "39640 \t 하울의 움직이는 성\n",
      "129383 \t 미스 페레그린과 이상한 아이들의 집\n",
      "107373 \t 신의 한 수\n",
      "115642 \t 신비한 동물사전\n",
      "94775 \t 7번방의 선물\n",
      "99740 \t 혹성탈출: 반격의 서막\n",
      "58018 \t 화려한 휴가\n",
      "70254 \t 아이언맨 3\n",
      "134963 \t 라라랜드\n",
      "98438 \t 어벤져스: 에이지 오브 울트론\n",
      "102824 \t 숨바꼭질\n",
      "22126 \t 인생은 아름다워\n",
      "64191 \t 나는 전설이다\n",
      "39405 \t 웰컴 투 동막골\n",
      "75426 \t 데드풀\n",
      "91045 \t 반창꼬\n",
      "67900 \t 해리 포터와 혼혈 왕자\n",
      "71509 \t 아저씨\n",
      "135843 \t 귀향\n",
      "130966 \t 부산행\n",
      "41450 \t 투사부일체\n",
      "17421 \t 쇼생크 탈출\n",
      "69956 \t 터미네이터 제니시스\n",
      "44913 \t 아수라\n",
      "73318 \t 시라노; 연애조작단\n",
      "88253 \t 늑대소년\n",
      "48227 \t 전우치\n",
      "76016 \t 써니\n",
      "39569 \t 디 워\n",
      "76460 \t 리얼 스틸\n",
      "68052 \t 트랜스포머: 패자의 역습\n",
      "107924 \t 수상한 그녀\n",
      "44885 \t 아이언맨\n",
      "88426 \t 건축학개론\n",
      "126032 \t 수어사이드 스쿼드\n",
      "94767 \t 덕혜옹주\n",
      "47152 \t 테이큰\n",
      "83250 \t 타워\n",
      "32686 \t 센과 치히로의 행방불명\n",
      "63513 \t 시간을 달리는 소녀\n",
      "54411 \t 우리들의 행복한 시간\n",
      "125459 \t 닥터 스트레인지\n",
      "115977 \t 베테랑\n",
      "72363 \t 어벤져스\n",
      "53034 \t 하모니\n",
      "51918 \t 뉴 문\n",
      "119966 \t 쎄시봉\n",
      "92047 \t 웜 바디스\n",
      "42589 \t 다세포 소녀\n",
      "67769 \t 타짜-신의 손\n",
      "68695 \t 추격자\n",
      "92075 \t 어바웃 타임\n",
      "75401 \t 헬로우 고스트\n",
      "76080 \t 조선명탐정: 각시투구꽃의 비밀\n",
      "68555 \t 말할 수 없는 비밀\n",
      "45232 \t 쌍화점\n",
      "103535 \t 소원\n",
      "99752 \t 군도:민란의 시대\n",
      "119430 \t 엑스맨: 아포칼립스\n",
      "85640 \t 파파로티\n",
      "100647 \t 히말라야\n",
      "62328 \t 설국열차\n",
      "100691 \t 트랜스포머: 사라진 시대\n",
      "51777 \t 월드워Z\n",
      "58088 \t 라디오 스타\n",
      "64129 \t 디스트릭트 9\n",
      "60753 \t 세븐 데이즈\n",
      "43678 \t 캐리비안의 해적 - 망자의 함\n",
      "61521 \t 트랜스포머\n",
      "96327 \t 캡틴 아메리카: 윈터 솔져\n",
      "47531 \t 라스트 갓파더\n",
      "77768 \t 매드맥스: 분노의 도로\n",
      "113344 \t 나우 유 씨 미 2\n",
      "94187 \t 어메이징 스파이더맨 2\n",
      "129050 \t 뷰티 인사이드\n",
      "86867 \t 퍼시픽 림\n",
      "121922 \t 사도\n",
      "129049 \t 마션\n",
      "62266 \t 아바타\n"
     ]
    }
   ],
   "source": [
    "for doctag in doc2vec_model.docvecs.doctags:\n",
    "    movie_idx = doctag.split('_')[1]\n",
    "    name = idx2movie.get(movie_idx, -1)\n",
    "    print(movie_idx, '\\t', name)"
   ]
  },
  {
   "cell_type": "markdown",
   "metadata": {},
   "source": [
    "영화 리뷰를 기준으로 각 영화를 document vector로 표현하였을 때 라라랜드와 리뷰가 비슷한 영화는 '비긴 어게인', '어바웃 타임' 등입니다"
   ]
  },
  {
   "cell_type": "code",
   "execution_count": 72,
   "metadata": {
    "collapsed": false
   },
   "outputs": [
    {
     "name": "stdout",
     "output_type": "stream",
     "text": [
      "라라랜드\n",
      "\n",
      "('비긴 어게인', '96379', 0.9090828895568848)\n",
      "('어바웃 타임', '92075', 0.8448772430419922)\n",
      "('레미제라블', '89755', 0.7290356755256653)\n",
      "('어거스트 러쉬', '66158', 0.7020918726921082)\n",
      "('시간을 달리는 소녀', '63513', 0.6952322721481323)\n",
      "('인턴', '118917', 0.6928815245628357)\n",
      "('인사이드 아웃', '115622', 0.6873512268066406)\n",
      "('겨울왕국', '100931', 0.679163932800293)\n",
      "('뷰티 인사이드', '129050', 0.6677015423774719)\n",
      "('지금, 만나러 갑니다', '39636', 0.6675947308540344)\n"
     ]
    }
   ],
   "source": [
    "def id2name(similar):\n",
    "    idx = similar[0].split('_')[1]\n",
    "    return (idx2movie.get(idx, 'unknown'), idx, similar[1])\n",
    "\n",
    "\n",
    "print('라라랜드\\n')\n",
    "\n",
    "for similar in doc2vec_model.docvecs.most_similar('MOVIE_134963'):\n",
    "    print(id2name(similar))"
   ]
  },
  {
   "cell_type": "code",
   "execution_count": 73,
   "metadata": {
    "collapsed": false
   },
   "outputs": [
    {
     "name": "stdout",
     "output_type": "stream",
     "text": [
      "관상\n",
      "\n",
      "('광해, 왕이 된 남자', '83893', 0.823921263217926)\n",
      "('역린', '108225', 0.8091968297958374)\n",
      "('사도', '121922', 0.7500420808792114)\n",
      "('군도:민란의 시대', '99752', 0.7389320135116577)\n",
      "('신세계', '91031', 0.7385289669036865)\n",
      "('신의 한 수', '107373', 0.7085539698600769)\n",
      "('의형제', '52548', 0.7052159309387207)\n",
      "('도둑들', '78726', 0.695982813835144)\n",
      "('암살', '121048', 0.6903162002563477)\n",
      "('해무', '109753', 0.6781700849533081)\n"
     ]
    }
   ],
   "source": [
    "print('관상\\n')\n",
    "for similar in doc2vec_model.docvecs.most_similar('MOVIE_93728'):\n",
    "    print(id2name(similar))"
   ]
  },
  {
   "cell_type": "code",
   "execution_count": 74,
   "metadata": {
    "collapsed": false
   },
   "outputs": [
    {
     "name": "stdout",
     "output_type": "stream",
     "text": [
      "광해 왕이된 남자\n",
      "\n",
      "('관상', '93728', 0.823921263217926)\n",
      "('의형제', '52548', 0.7537585496902466)\n",
      "('라디오 스타', '58088', 0.6909765601158142)\n",
      "('완득이', '80866', 0.6901271939277649)\n",
      "('박수건달', '91073', 0.6711169481277466)\n",
      "('7번방의 선물', '94775', 0.6668413877487183)\n",
      "('과속스캔들', '51143', 0.6659417748451233)\n",
      "('왕의 남자', '39894', 0.6646219491958618)\n",
      "('해바라기', '44529', 0.6588789224624634)\n",
      "('사도', '121922', 0.6542608737945557)\n"
     ]
    }
   ],
   "source": [
    "print('광해 왕이된 남자\\n')\n",
    "for similar in doc2vec_model.docvecs.most_similar('MOVIE_83893'):\n",
    "    print(id2name(similar))"
   ]
  },
  {
   "cell_type": "code",
   "execution_count": 75,
   "metadata": {
    "collapsed": false
   },
   "outputs": [
    {
     "name": "stdout",
     "output_type": "stream",
     "text": [
      "아바타\n",
      "\n",
      "('트랜스포머', '61521', 0.8489862680435181)\n",
      "('디스트릭트 9', '64129', 0.8425339460372925)\n",
      "('2012', '49727', 0.8106194734573364)\n",
      "('그래비티', '47370', 0.7941005825996399)\n",
      "('인셉션', '52515', 0.7682358026504517)\n",
      "('퍼시픽 림', '86867', 0.7560417056083679)\n",
      "('스카이라인', '76581', 0.7331263422966003)\n",
      "('나는 전설이다', '64191', 0.733106255531311)\n",
      "('트랜스포머 3', '70241', 0.7302807569503784)\n",
      "('트랜스포머: 패자의 역습', '68052', 0.7278870344161987)\n"
     ]
    }
   ],
   "source": [
    "print('아바타\\n')\n",
    "for similar in doc2vec_model.docvecs.most_similar('MOVIE_62266'):\n",
    "    print(id2name(similar))"
   ]
  },
  {
   "cell_type": "markdown",
   "metadata": {},
   "source": [
    "## t-SNE를 이용한 리뷰가 비슷한 영화의 시각화"
   ]
  },
  {
   "cell_type": "code",
   "execution_count": 76,
   "metadata": {
    "collapsed": false
   },
   "outputs": [
    {
     "data": {
      "text/plain": [
       "((172, 100), numpy.ndarray)"
      ]
     },
     "execution_count": 76,
     "metadata": {},
     "output_type": "execute_result"
    }
   ],
   "source": [
    "doc2vec_model.docvecs.doctag_syn0.shape, type(doc2vec_model.docvecs.doctag_syn0)"
   ]
  },
  {
   "cell_type": "code",
   "execution_count": 77,
   "metadata": {
    "collapsed": false
   },
   "outputs": [
    {
     "name": "stdout",
     "output_type": "stream",
     "text": [
      "['MOVIE_72523', 'MOVIE_59845', 'MOVIE_109753', 'MOVIE_45321', 'MOVIE_45290']\n",
      "['고사 두 번째 이야기: 교생실습', '박쥐', '해무', '해운대', '인터스텔라']\n"
     ]
    }
   ],
   "source": [
    "index2tag = [doc2vec_model.docvecs.index_to_doctag(i) for i in range(172)]\n",
    "print(index2tag[:5])\n",
    "\n",
    "tag2index = {tag:index for index, tag in enumerate(index2tag)}\n",
    "\n",
    "index2name = [idx2movie.get(tag.split('_')[1], -1) for tag in index2tag]\n",
    "print(index2name[:5])"
   ]
  },
  {
   "cell_type": "markdown",
   "metadata": {},
   "source": [
    "이전의 문서 시각화 시간에 살펴보았던 TSNE를 이용하여 document vector를 2차원으로 임베딩을 하여 시각화를 수행합니다. 시간이 오래 걸릴 작업은 %%time을 적어 수행 시간을 출력하면 편합니다."
   ]
  },
  {
   "cell_type": "code",
   "execution_count": 90,
   "metadata": {
    "collapsed": false
   },
   "outputs": [
    {
     "name": "stdout",
     "output_type": "stream",
     "text": [
      "CPU times: user 2.01 s, sys: 64 ms, total: 2.07 s\n",
      "Wall time: 1.09 s\n"
     ]
    }
   ],
   "source": [
    "%%time \n",
    "\n",
    "from sklearn.manifold import TSNE\n",
    "\n",
    "tsne = TSNE(n_components=2)\n",
    "y_tsne = tsne.fit_transform(doc2vec_model.docvecs.doctag_syn0)\n",
    "\n",
    "y_tsne.shape"
   ]
  },
  {
   "cell_type": "code",
   "execution_count": 81,
   "metadata": {
    "collapsed": false
   },
   "outputs": [
    {
     "name": "stdout",
     "output_type": "stream",
     "text": [
      "['/usr/share/fonts/truetype/liberation/LiberationSans-Regular.ttf', '/usr/share/fonts/truetype/padauk/Padauk-bold.ttf', '/usr/share/fonts/truetype/dejavu/DejaVuSans-ExtraLight.ttf', '/usr/share/fonts/truetype/kacst/mry_KacstQurn.ttf', '/usr/share/fonts/truetype/tlwg/TlwgMono-Oblique.ttf']\n"
     ]
    }
   ],
   "source": [
    "import matplotlib\n",
    "import matplotlib.pyplot as plt\n",
    "%matplotlib inline\n",
    "\n",
    "print(list(matplotlib.font_manager.get_fontconfig_fonts())[:5])\n",
    "\n",
    "krfont = {'family' : 'nanumgothic', 'weight' : 'bold', 'size'   : 10}\n",
    "matplotlib.rc('font', **krfont)"
   ]
  },
  {
   "cell_type": "markdown",
   "metadata": {},
   "source": [
    "라라랜드나 뷰티 인사이드와 같이 멜로물의 영화들은 좌측 하단에 위치함을 볼 수 있습니다. "
   ]
  },
  {
   "cell_type": "code",
   "execution_count": 91,
   "metadata": {
    "collapsed": false
   },
   "outputs": [
    {
     "name": "stdout",
     "output_type": "stream",
     "text": [
      "134963 =  라라랜드\n"
     ]
    },
    {
     "data": {
      "image/png": "[encoded data removed]",
      "text/plain": [
       "<matplotlib.figure.Figure at 0x7efd05859dd8>"
      ]
     },
     "metadata": {},
     "output_type": "display_data"
    }
   ],
   "source": [
    "print('134963 = ', idx2movie['134963'])\n",
    "\n",
    "plt.figure(figsize=(15,10))\n",
    "plt.scatter(y_tsne[:,0], y_tsne[:,1], color='yellow')\n",
    "\n",
    "similars = [tag for tag, _ in doc2vec_model.docvecs.most_similar('MOVIE_134963')] + ['MOVIE_134963']\n",
    "\n",
    "for tag in similars:\n",
    "    index = tag2index.get(tag, -1)\n",
    "    if index == -1:\n",
    "        continue\n",
    "    name = index2name[index]\n",
    "    plt.annotate(name, (y_tsne[index, 0], y_tsne[index, 1]))\n",
    "\n",
    "plt.show()"
   ]
  },
  {
   "cell_type": "markdown",
   "metadata": {},
   "source": [
    "관상의 유사한 영화들은 우측 상단에 위치하고 있습니다. "
   ]
  },
  {
   "cell_type": "code",
   "execution_count": 92,
   "metadata": {
    "collapsed": false
   },
   "outputs": [
    {
     "name": "stdout",
     "output_type": "stream",
     "text": [
      "93728 =  관상\n"
     ]
    },
    {
     "data": {
      "image/png": "[encoded data removed]",
      "text/plain": [
       "<matplotlib.figure.Figure at 0x7efd0473c588>"
      ]
     },
     "metadata": {},
     "output_type": "display_data"
    }
   ],
   "source": [
    "print('93728 = ', idx2movie['93728'])\n",
    "\n",
    "plt.figure(figsize=(15,10))\n",
    "plt.scatter(y_tsne[:,0], y_tsne[:,1], color='yellow')\n",
    "\n",
    "similars = [tag for tag, _ in doc2vec_model.docvecs.most_similar('MOVIE_93728')] + ['MOVIE_93728']\n",
    "\n",
    "for tag in similars:\n",
    "    index = tag2index.get(tag, -1)\n",
    "    if index == -1:\n",
    "        continue\n",
    "    name = index2name[index]\n",
    "    plt.annotate(name, (y_tsne[index, 0], y_tsne[index, 1]))\n",
    "\n",
    "plt.show()"
   ]
  },
  {
   "cell_type": "markdown",
   "metadata": {},
   "source": [
    "액션적인 요소가 많았던 영화들은 앞선 라라랜드나 비긴어게인과 같은 영화들과는 떨어져서, 액션 영화들끼리 뭉쳐있음을 확인할 수 있습니다"
   ]
  },
  {
   "cell_type": "code",
   "execution_count": 93,
   "metadata": {
    "collapsed": false
   },
   "outputs": [
    {
     "name": "stdout",
     "output_type": "stream",
     "text": [
      "62266 =  아바타\n"
     ]
    },
    {
     "data": {
      "image/png": "[encoded data removed]",
      "text/plain": [
       "<matplotlib.figure.Figure at 0x7efd03f1e128>"
      ]
     },
     "metadata": {},
     "output_type": "display_data"
    }
   ],
   "source": [
    "print('62266 = ', idx2movie['62266'])\n",
    "\n",
    "plt.figure(figsize=(15,10))\n",
    "plt.scatter(y_tsne[:,0], y_tsne[:,1], color='yellow')\n",
    "\n",
    "similars = [tag for tag, _ in doc2vec_model.docvecs.most_similar('MOVIE_62266')] + ['MOVIE_62266']\n",
    "\n",
    "for tag in similars:\n",
    "    index = tag2index.get(tag, -1)\n",
    "    if index == -1:\n",
    "        continue\n",
    "    name = index2name[index]\n",
    "    plt.annotate(name, (y_tsne[index, 0], y_tsne[index, 1]))\n",
    "\n",
    "plt.show()"
   ]
  },
  {
   "cell_type": "code",
   "execution_count": null,
   "metadata": {
    "collapsed": true
   },
   "outputs": [],
   "source": []
  }
 ],
 "metadata": {
  "kernelspec": {
   "display_name": "Python 3",
   "language": "python",
   "name": "python3"
  },
  "language_info": {
   "codemirror_mode": {
    "name": "ipython",
    "version": 3
   },
   "file_extension": ".py",
   "mimetype": "text/x-python",
   "name": "python",
   "nbconvert_exporter": "python",
   "pygments_lexer": "ipython3",
   "version": "3.5.2"
  }
 },
 "nbformat": 4,
 "nbformat_minor": 1
}
